{
 "cells": [
  {
   "cell_type": "code",
   "execution_count": 6,
   "metadata": {},
   "outputs": [],
   "source": [
    "import os\n",
    "from collections import Counter\n",
    "\n",
    "def contar_arquivos_em_subpastas(pasta_principal):\n",
    "    if not os.path.exists(pasta_principal):\n",
    "        print(f\"Erro: A pasta '{pasta_principal}' não existe.\")\n",
    "        return None\n",
    "\n",
    "    contagem_arquivos = Counter()\n",
    "\n",
    "    for nome_subpasta in os.listdir(pasta_principal):\n",
    "        caminho_subpasta = os.path.join(pasta_principal, nome_subpasta)\n",
    "\n",
    "        if os.path.isdir(caminho_subpasta):  # Verifica se é um diretório\n",
    "            arquivos_na_subpasta = [f for f in os.listdir(caminho_subpasta) if os.path.isfile(os.path.join(caminho_subpasta, f))]\n",
    "            contagem_arquivos[nome_subpasta] = len(arquivos_na_subpasta)\n",
    "\n",
    "    return contagem_arquivos\n",
    "\n",
    "\n",
    "def imprimir_contagem_ordenada(contagem):\n",
    "    if contagem:\n",
    "        print(\"Contagem de arquivos por subpasta (ordem decrescente):\")\n",
    "        i = 30\n",
    "        for subpasta, quantidade in contagem.most_common(): #most_common já ordena decrescentemente\n",
    "            #print(f\"- {i} - {subpasta}: {quantidade} arquivos\")\n",
    "            print(f\"- {subpasta}: {quantidade} arquivos\")\n",
    "            #print(f'\"{subpasta}\": {i}, ')\n",
    "            i+=1\n",
    "    else:\n",
    "        print(\"Nenhuma subpasta encontrada.\")"
   ]
  },
  {
   "cell_type": "code",
   "execution_count": 7,
   "metadata": {},
   "outputs": [
    {
     "name": "stdout",
     "output_type": "stream",
     "text": [
      "Contagem de arquivos por subpasta (ordem decrescente):\n",
      "- SP_D2_396_TB-L1: 522 arquivos\n",
      "- SP_D2_343_TB-L1: 507 arquivos\n",
      "- SP_EF_153_TB-L1: 406 arquivos\n",
      "- SP_DID_018_TB-L1: 390 arquivos\n",
      "- SP_D2_333_TB-L1: 375 arquivos\n",
      "- SP_DID_234_TB-L1: 361 arquivos\n",
      "- SP_EF_124_TB-L1: 361 arquivos\n",
      "- SP_D2_343_TB-L2: 343 arquivos\n",
      "- SP_DID_208_TB-L1: 310 arquivos\n",
      "- SP_DID_251_TB-L1: 310 arquivos\n",
      "- SP_D2_255_TB-L1: 301 arquivos\n",
      "- SP_D2_255_TB-L2: 298 arquivos\n",
      "- SP_EF_388_TB-L1: 293 arquivos\n",
      "- SP_DID_235_TB-L1: 266 arquivos\n",
      "- SP_D2_396_TB-L2: 254 arquivos\n",
      "- SP_DID_137_TB-L1: 242 arquivos\n",
      "- SP_DID_250_TB-L1: 242 arquivos\n",
      "- SP_D2_360_TB-L1: 222 arquivos\n",
      "- SP_DID_161_TB-L1: 204 arquivos\n",
      "- SP_D2_360_TB-L2: 150 arquivos\n",
      "- SP_DID_018_TB-DOC1: 147 arquivos\n",
      "- SP_EF_405_TB-L1: 145 arquivos\n",
      "- SP_EF_377_TB-L1: 127 arquivos\n",
      "- SP_D2_333_TB-L2: 118 arquivos\n",
      "- SP_D2_396_TB-DOC1: 108 arquivos\n",
      "- SP_DID_235_TB-DOC1: 71 arquivos\n",
      "- SP_DID_251_TB-DOC1: 58 arquivos\n",
      "- SP_DID_161_TB-DOC1: 51 arquivos\n",
      "- SP_DID_234_TB-DOC2: 46 arquivos\n",
      "- SP_DID_250_TB-DOC1: 41 arquivos\n",
      "- SP_DID_234_TB-DOC1: 34 arquivos\n",
      "- SP_D2_255_TB-DOC1: 28 arquivos\n",
      "- SP_D2_255_TB-DOC2: 24 arquivos\n",
      "- SP_D2_343_TB-DOC1: 18 arquivos\n",
      "- SP_DID_137_TB-DOC1: 17 arquivos\n",
      "- SP_D2_360_TB-DOC1: 17 arquivos\n",
      "- SP_D2_333_TB-DOC1: 14 arquivos\n",
      "- SP_DID_208_TB-DOC1: 9 arquivos\n"
     ]
    }
   ],
   "source": [
    "pasta_principal = \"/home/sidleal/sources/FastSpeech2/preprocessed_data/entoa_tts_pros/TextGrid\"\n",
    "contagem = contar_arquivos_em_subpastas(pasta_principal)\n",
    "imprimir_contagem_ordenada(contagem)"
   ]
  }
 ],
 "metadata": {
  "kernelspec": {
   "display_name": "base",
   "language": "python",
   "name": "python3"
  },
  "language_info": {
   "codemirror_mode": {
    "name": "ipython",
    "version": 3
   },
   "file_extension": ".py",
   "mimetype": "text/x-python",
   "name": "python",
   "nbconvert_exporter": "python",
   "pygments_lexer": "ipython3",
   "version": "3.12.4"
  }
 },
 "nbformat": 4,
 "nbformat_minor": 2
}
